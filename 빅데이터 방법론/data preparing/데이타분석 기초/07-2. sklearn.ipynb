{
 "cells": [
  {
   "cell_type": "code",
   "execution_count": 1,
   "metadata": {},
   "outputs": [],
   "source": [
    "import numpy as np\n",
    "import matplotlib.pyplot as plt"
   ]
  },
  {
   "cell_type": "code",
   "execution_count": 35,
   "metadata": {},
   "outputs": [],
   "source": [
    "rs = np.random.RandomState(10)\n",
    "x = 10 * rs.rand(100)\n",
    "y = 3 * x + 2 * rs.rand(100)"
   ]
  },
  {
   "cell_type": "code",
   "execution_count": 32,
   "metadata": {
    "scrolled": true
   },
   "outputs": [
    {
     "data": {
      "text/plain": [
       "array([0.69177461, 0.18902945, 0.80300754, 0.51476375, 0.75728604,\n",
       "       0.17778875, 0.08262029, 0.48207197, 0.52885388, 0.69630827,\n",
       "       0.20476161, 0.67137233, 0.79326933, 0.04173781, 0.96335751,\n",
       "       0.97539272, 0.55066078, 0.06490698, 0.34523679, 0.02042997,\n",
       "       0.80085181, 0.2079271 , 0.14325251, 0.69989398, 0.05794981,\n",
       "       0.25660757, 0.51033178, 0.99525878, 0.14651568, 0.44951478,\n",
       "       0.60144038, 0.09727249, 0.28873488, 0.7207999 , 0.55080606,\n",
       "       0.83857702, 0.58033135, 0.18457174, 0.61550212, 0.88695509,\n",
       "       0.51678928, 0.62614367, 0.50505912, 0.90966258, 0.41330466,\n",
       "       0.53546872, 0.34264313, 0.12957678, 0.66282175, 0.93567   ,\n",
       "       0.61272918, 0.8427385 , 0.21790844, 0.90317174, 0.00976998,\n",
       "       0.22581273, 0.13205513, 0.90754295, 0.91023064, 0.58105791,\n",
       "       0.08749305, 0.11687944, 0.77107126, 0.73279527, 0.08712836,\n",
       "       0.3574632 , 0.77321162, 0.1314716 , 0.53783243, 0.75472357,\n",
       "       0.27252618, 0.566517  , 0.47668497, 0.55662069, 0.44073706,\n",
       "       0.69373736, 0.71823718, 0.75638236, 0.03732201, 0.6788354 ,\n",
       "       0.4772208 , 0.10017139, 0.61419623, 0.83791451, 0.73389404,\n",
       "       0.32156558, 0.06785531, 0.03733024, 0.5591253 , 0.1608527 ,\n",
       "       0.26788819, 0.23571196, 0.01934746, 0.15168642, 0.03390251,\n",
       "       0.98183486, 0.36048531, 0.82546453, 0.41223741, 0.25317915])"
      ]
     },
     "execution_count": 32,
     "metadata": {},
     "output_type": "execute_result"
    }
   ],
   "source": [
    "# x = rs.rand(100)\n",
    "# x"
   ]
  },
  {
   "cell_type": "code",
   "execution_count": 33,
   "metadata": {},
   "outputs": [
    {
     "data": {
      "text/plain": [
       "array([0.23671088, 0.7731156 , 0.67125691, 0.70633089, 0.85315541,\n",
       "       0.52204957, 0.44276965, 0.55374844, 0.65199485, 0.78855387,\n",
       "       0.89226945, 0.30910516, 0.13560977, 0.75092665, 0.52683322,\n",
       "       0.78473858, 0.4299261 , 0.83884659, 0.53735403, 0.25042393,\n",
       "       0.05889401, 0.09194928, 0.17419994, 0.43925435, 0.81093423,\n",
       "       0.91040212, 0.57609071, 0.29115443, 0.65178637, 0.6379207 ,\n",
       "       0.50357474, 0.96555272, 0.80669115, 0.92851936, 0.61393513,\n",
       "       0.98200392, 0.71498796, 0.00865927, 0.28814558, 0.84139866,\n",
       "       0.44317709, 0.17304972, 0.11452711, 0.7978806 , 0.64890515,\n",
       "       0.501746  , 0.28564021, 0.63669583, 0.36834191, 0.53953854,\n",
       "       0.7620668 , 0.83988748, 0.10495741, 0.51063131, 0.64548866,\n",
       "       0.15306681, 0.00175965, 0.96704575, 0.80786653, 0.27406759,\n",
       "       0.27908961, 0.12067964, 0.48068826, 0.93230198, 0.91492743,\n",
       "       0.2438751 , 0.3948583 , 0.97023953, 0.27561963, 0.93784944,\n",
       "       0.76901216, 0.88471869, 0.87100498, 0.14647096, 0.78918879,\n",
       "       0.90922225, 0.83817055, 0.71203119, 0.30737942, 0.35378455,\n",
       "       0.2363534 , 0.08981164, 0.19447817, 0.61580788, 0.93208368,\n",
       "       0.69108395, 0.56284705, 0.2637558 , 0.52714688, 0.80438291,\n",
       "       0.29507589, 0.18333855, 0.01973246, 0.74332123, 0.0382934 ,\n",
       "       0.43367967, 0.83208476, 0.01345856, 0.50933539, 0.4795487 ])"
      ]
     },
     "execution_count": 33,
     "metadata": {},
     "output_type": "execute_result"
    }
   ],
   "source": [
    "# y = rs.rand(100)\n",
    "# y"
   ]
  },
  {
   "cell_type": "code",
   "execution_count": 36,
   "metadata": {},
   "outputs": [
    {
     "data": {
      "text/plain": [
       "<matplotlib.collections.PathCollection at 0x1d1027ca610>"
      ]
     },
     "execution_count": 36,
     "metadata": {},
     "output_type": "execute_result"
    },
    {
     "data": {
      "image/png": "[encoded data removed]",
      "text/plain": [
       "<Figure size 432x288 with 1 Axes>"
      ]
     },
     "metadata": {
      "needs_background": "light"
     },
     "output_type": "display_data"
    }
   ],
   "source": [
    "plt.scatter(x, y)"
   ]
  },
  {
   "cell_type": "code",
   "execution_count": 37,
   "metadata": {},
   "outputs": [],
   "source": [
    "from sklearn.linear_model import LinearRegression\n",
    "regr = LinearRegression()"
   ]
  },
  {
   "cell_type": "code",
   "execution_count": 38,
   "metadata": {},
   "outputs": [],
   "source": [
    "from sklearn.linear_model import LinearRegression\n",
    "regr = LinearRegression(fit_intercept = True)"
   ]
  },
  {
   "cell_type": "code",
   "execution_count": 42,
   "metadata": {},
   "outputs": [
    {
     "name": "stdout",
     "output_type": "stream",
     "text": [
      "(100, 1) (100,)\n"
     ]
    }
   ],
   "source": [
    "X = x.reshape(-1, 1)\n",
    "print(X.shape, y.shape)"
   ]
  },
  {
   "cell_type": "code",
   "execution_count": 43,
   "metadata": {},
   "outputs": [
    {
     "data": {
      "text/plain": [
       "array([[7.71320643],\n",
       "       [0.20751949],\n",
       "       [6.33648235],\n",
       "       [7.48803883],\n",
       "       [4.98507012],\n",
       "       [2.24796646],\n",
       "       [1.98062865],\n",
       "       [7.60530712],\n",
       "       [1.69110837],\n",
       "       [0.88339814],\n",
       "       [6.85359818],\n",
       "       [9.53393346],\n",
       "       [0.03948266],\n",
       "       [5.12192263],\n",
       "       [8.12620962],\n",
       "       [6.12526067],\n",
       "       [7.21755317],\n",
       "       [2.91876068],\n",
       "       [9.17774123],\n",
       "       [7.14575783],\n",
       "       [5.42544368],\n",
       "       [1.42170048],\n",
       "       [3.7334076 ],\n",
       "       [6.74133615],\n",
       "       [4.41833174],\n",
       "       [4.34013993],\n",
       "       [6.17766978],\n",
       "       [5.13138243],\n",
       "       [6.50397182],\n",
       "       [6.01038953],\n",
       "       [8.05223197],\n",
       "       [5.21647152],\n",
       "       [9.08648881],\n",
       "       [3.19236089],\n",
       "       [0.90459349],\n",
       "       [3.00700057],\n",
       "       [1.13984362],\n",
       "       [8.28681326],\n",
       "       [0.46896319],\n",
       "       [6.26287148],\n",
       "       [5.47586156],\n",
       "       [8.19286996],\n",
       "       [1.9894754 ],\n",
       "       [8.56850302],\n",
       "       [3.51652639],\n",
       "       [7.54647692],\n",
       "       [2.95961707],\n",
       "       [8.8393648 ],\n",
       "       [3.25511638],\n",
       "       [1.65015898],\n",
       "       [3.92529244],\n",
       "       [0.93460375],\n",
       "       [8.21105658],\n",
       "       [1.5115202 ],\n",
       "       [3.84114449],\n",
       "       [9.44260712],\n",
       "       [9.87625475],\n",
       "       [4.56304547],\n",
       "       [8.26122844],\n",
       "       [2.51374134],\n",
       "       [5.97371648],\n",
       "       [9.0283176 ],\n",
       "       [5.34557949],\n",
       "       [5.90201363],\n",
       "       [0.39281767],\n",
       "       [3.57181759],\n",
       "       [0.7961309 ],\n",
       "       [3.05459918],\n",
       "       [3.30719312],\n",
       "       [7.73830296],\n",
       "       [0.39959209],\n",
       "       [4.29492178],\n",
       "       [3.14926872],\n",
       "       [6.36491143],\n",
       "       [3.4634715 ],\n",
       "       [0.43097356],\n",
       "       [8.79915175],\n",
       "       [7.63240587],\n",
       "       [8.78096643],\n",
       "       [4.17509144],\n",
       "       [6.05577564],\n",
       "       [5.13466627],\n",
       "       [5.97836648],\n",
       "       [2.62215661],\n",
       "       [3.00871309],\n",
       "       [0.25399782],\n",
       "       [3.03062561],\n",
       "       [2.42075875],\n",
       "       [5.57578189],\n",
       "       [5.6550702 ],\n",
       "       [4.75132247],\n",
       "       [2.92797976],\n",
       "       [0.64251061],\n",
       "       [9.78819146],\n",
       "       [3.39707844],\n",
       "       [4.95048631],\n",
       "       [9.77080726],\n",
       "       [4.40773825],\n",
       "       [3.18272805],\n",
       "       [5.19796986]])"
      ]
     },
     "execution_count": 43,
     "metadata": {},
     "output_type": "execute_result"
    }
   ],
   "source": [
    "X"
   ]
  },
  {
   "cell_type": "code",
   "execution_count": 44,
   "metadata": {},
   "outputs": [
    {
     "data": {
      "text/plain": [
       "LinearRegression()"
      ]
     },
     "execution_count": 44,
     "metadata": {},
     "output_type": "execute_result"
    }
   ],
   "source": [
    "regr.fit(X, y)"
   ]
  },
  {
   "cell_type": "code",
   "execution_count": 7,
   "metadata": {},
   "outputs": [
    {
     "data": {
      "text/plain": [
       "array([2.9855087])"
      ]
     },
     "execution_count": 7,
     "metadata": {},
     "output_type": "execute_result"
    }
   ],
   "source": [
    "regr.coef_"
   ]
  },
  {
   "cell_type": "code",
   "execution_count": 48,
   "metadata": {},
   "outputs": [
    {
     "data": {
      "text/plain": [
       "0.9878534341975662"
      ]
     },
     "execution_count": 48,
     "metadata": {},
     "output_type": "execute_result"
    }
   ],
   "source": [
    "regr.intercept_"
   ]
  },
  {
   "cell_type": "code",
   "execution_count": 9,
   "metadata": {},
   "outputs": [],
   "source": [
    "x_new = np.linspace(-1, 11, num=100)"
   ]
  },
  {
   "cell_type": "code",
   "execution_count": 52,
   "metadata": {},
   "outputs": [
    {
     "data": {
      "text/plain": [
       "array([-1.        , -0.87878788, -0.75757576, -0.63636364, -0.51515152,\n",
       "       -0.39393939, -0.27272727, -0.15151515, -0.03030303,  0.09090909,\n",
       "        0.21212121,  0.33333333,  0.45454545,  0.57575758,  0.6969697 ,\n",
       "        0.81818182,  0.93939394,  1.06060606,  1.18181818,  1.3030303 ,\n",
       "        1.42424242,  1.54545455,  1.66666667,  1.78787879,  1.90909091,\n",
       "        2.03030303,  2.15151515,  2.27272727,  2.39393939,  2.51515152,\n",
       "        2.63636364,  2.75757576,  2.87878788,  3.        ,  3.12121212,\n",
       "        3.24242424,  3.36363636,  3.48484848,  3.60606061,  3.72727273,\n",
       "        3.84848485,  3.96969697,  4.09090909,  4.21212121,  4.33333333,\n",
       "        4.45454545,  4.57575758,  4.6969697 ,  4.81818182,  4.93939394,\n",
       "        5.06060606,  5.18181818,  5.3030303 ,  5.42424242,  5.54545455,\n",
       "        5.66666667,  5.78787879,  5.90909091,  6.03030303,  6.15151515,\n",
       "        6.27272727,  6.39393939,  6.51515152,  6.63636364,  6.75757576,\n",
       "        6.87878788,  7.        ,  7.12121212,  7.24242424,  7.36363636,\n",
       "        7.48484848,  7.60606061,  7.72727273,  7.84848485,  7.96969697,\n",
       "        8.09090909,  8.21212121,  8.33333333,  8.45454545,  8.57575758,\n",
       "        8.6969697 ,  8.81818182,  8.93939394,  9.06060606,  9.18181818,\n",
       "        9.3030303 ,  9.42424242,  9.54545455,  9.66666667,  9.78787879,\n",
       "        9.90909091, 10.03030303, 10.15151515, 10.27272727, 10.39393939,\n",
       "       10.51515152, 10.63636364, 10.75757576, 10.87878788, 11.        ])"
      ]
     },
     "execution_count": 52,
     "metadata": {},
     "output_type": "execute_result"
    }
   ],
   "source": [
    "x_new"
   ]
  },
  {
   "cell_type": "code",
   "execution_count": 45,
   "metadata": {},
   "outputs": [
    {
     "data": {
      "text/plain": [
       "(100, 1)"
      ]
     },
     "execution_count": 45,
     "metadata": {},
     "output_type": "execute_result"
    }
   ],
   "source": [
    "X_new = x_new.reshape(-1, 1)\n",
    "X_new.shape"
   ]
  },
  {
   "cell_type": "code",
   "execution_count": 53,
   "metadata": {},
   "outputs": [
    {
     "data": {
      "text/plain": [
       "array([[-1.        ],\n",
       "       [-0.87878788],\n",
       "       [-0.75757576],\n",
       "       [-0.63636364],\n",
       "       [-0.51515152],\n",
       "       [-0.39393939],\n",
       "       [-0.27272727],\n",
       "       [-0.15151515],\n",
       "       [-0.03030303],\n",
       "       [ 0.09090909],\n",
       "       [ 0.21212121],\n",
       "       [ 0.33333333],\n",
       "       [ 0.45454545],\n",
       "       [ 0.57575758],\n",
       "       [ 0.6969697 ],\n",
       "       [ 0.81818182],\n",
       "       [ 0.93939394],\n",
       "       [ 1.06060606],\n",
       "       [ 1.18181818],\n",
       "       [ 1.3030303 ],\n",
       "       [ 1.42424242],\n",
       "       [ 1.54545455],\n",
       "       [ 1.66666667],\n",
       "       [ 1.78787879],\n",
       "       [ 1.90909091],\n",
       "       [ 2.03030303],\n",
       "       [ 2.15151515],\n",
       "       [ 2.27272727],\n",
       "       [ 2.39393939],\n",
       "       [ 2.51515152],\n",
       "       [ 2.63636364],\n",
       "       [ 2.75757576],\n",
       "       [ 2.87878788],\n",
       "       [ 3.        ],\n",
       "       [ 3.12121212],\n",
       "       [ 3.24242424],\n",
       "       [ 3.36363636],\n",
       "       [ 3.48484848],\n",
       "       [ 3.60606061],\n",
       "       [ 3.72727273],\n",
       "       [ 3.84848485],\n",
       "       [ 3.96969697],\n",
       "       [ 4.09090909],\n",
       "       [ 4.21212121],\n",
       "       [ 4.33333333],\n",
       "       [ 4.45454545],\n",
       "       [ 4.57575758],\n",
       "       [ 4.6969697 ],\n",
       "       [ 4.81818182],\n",
       "       [ 4.93939394],\n",
       "       [ 5.06060606],\n",
       "       [ 5.18181818],\n",
       "       [ 5.3030303 ],\n",
       "       [ 5.42424242],\n",
       "       [ 5.54545455],\n",
       "       [ 5.66666667],\n",
       "       [ 5.78787879],\n",
       "       [ 5.90909091],\n",
       "       [ 6.03030303],\n",
       "       [ 6.15151515],\n",
       "       [ 6.27272727],\n",
       "       [ 6.39393939],\n",
       "       [ 6.51515152],\n",
       "       [ 6.63636364],\n",
       "       [ 6.75757576],\n",
       "       [ 6.87878788],\n",
       "       [ 7.        ],\n",
       "       [ 7.12121212],\n",
       "       [ 7.24242424],\n",
       "       [ 7.36363636],\n",
       "       [ 7.48484848],\n",
       "       [ 7.60606061],\n",
       "       [ 7.72727273],\n",
       "       [ 7.84848485],\n",
       "       [ 7.96969697],\n",
       "       [ 8.09090909],\n",
       "       [ 8.21212121],\n",
       "       [ 8.33333333],\n",
       "       [ 8.45454545],\n",
       "       [ 8.57575758],\n",
       "       [ 8.6969697 ],\n",
       "       [ 8.81818182],\n",
       "       [ 8.93939394],\n",
       "       [ 9.06060606],\n",
       "       [ 9.18181818],\n",
       "       [ 9.3030303 ],\n",
       "       [ 9.42424242],\n",
       "       [ 9.54545455],\n",
       "       [ 9.66666667],\n",
       "       [ 9.78787879],\n",
       "       [ 9.90909091],\n",
       "       [10.03030303],\n",
       "       [10.15151515],\n",
       "       [10.27272727],\n",
       "       [10.39393939],\n",
       "       [10.51515152],\n",
       "       [10.63636364],\n",
       "       [10.75757576],\n",
       "       [10.87878788],\n",
       "       [11.        ]])"
      ]
     },
     "execution_count": 53,
     "metadata": {},
     "output_type": "execute_result"
    }
   ],
   "source": [
    "X_new"
   ]
  },
  {
   "cell_type": "code",
   "execution_count": 50,
   "metadata": {},
   "outputs": [],
   "source": [
    "y_pred = regr.predict(X_new)"
   ]
  },
  {
   "cell_type": "code",
   "execution_count": 51,
   "metadata": {},
   "outputs": [
    {
     "data": {
      "text/plain": [
       "array([-1.99765526, -1.63577542, -1.27389558, -0.91201574, -0.5501359 ,\n",
       "       -0.18825605,  0.17362379,  0.53550363,  0.89738347,  1.25926332,\n",
       "        1.62114316,  1.983023  ,  2.34490284,  2.70678268,  3.06866253,\n",
       "        3.43054237,  3.79242221,  4.15430205,  4.5161819 ,  4.87806174,\n",
       "        5.23994158,  5.60182142,  5.96370126,  6.32558111,  6.68746095,\n",
       "        7.04934079,  7.41122063,  7.77310048,  8.13498032,  8.49686016,\n",
       "        8.85874   ,  9.22061984,  9.58249969,  9.94437953, 10.30625937,\n",
       "       10.66813921, 11.03001906, 11.3918989 , 11.75377874, 12.11565858,\n",
       "       12.47753842, 12.83941827, 13.20129811, 13.56317795, 13.92505779,\n",
       "       14.28693763, 14.64881748, 15.01069732, 15.37257716, 15.734457  ,\n",
       "       16.09633685, 16.45821669, 16.82009653, 17.18197637, 17.54385621,\n",
       "       17.90573606, 18.2676159 , 18.62949574, 18.99137558, 19.35325543,\n",
       "       19.71513527, 20.07701511, 20.43889495, 20.80077479, 21.16265464,\n",
       "       21.52453448, 21.88641432, 22.24829416, 22.61017401, 22.97205385,\n",
       "       23.33393369, 23.69581353, 24.05769337, 24.41957322, 24.78145306,\n",
       "       25.1433329 , 25.50521274, 25.86709259, 26.22897243, 26.59085227,\n",
       "       26.95273211, 27.31461195, 27.6764918 , 28.03837164, 28.40025148,\n",
       "       28.76213132, 29.12401116, 29.48589101, 29.84777085, 30.20965069,\n",
       "       30.57153053, 30.93341038, 31.29529022, 31.65717006, 32.0190499 ,\n",
       "       32.38092974, 32.74280959, 33.10468943, 33.46656927, 33.82844911])"
      ]
     },
     "execution_count": 51,
     "metadata": {},
     "output_type": "execute_result"
    }
   ],
   "source": [
    "y_pred"
   ]
  },
  {
   "cell_type": "code",
   "execution_count": 12,
   "metadata": {},
   "outputs": [
    {
     "data": {
      "text/plain": [
       "<matplotlib.collections.PathCollection at 0x1d101526430>"
      ]
     },
     "execution_count": 12,
     "metadata": {},
     "output_type": "execute_result"
    },
    {
     "data": {
      "image/png": "[encoded data removed]",
      "text/plain": [
       "<Figure size 432x288 with 1 Axes>"
      ]
     },
     "metadata": {
      "needs_background": "light"
     },
     "output_type": "display_data"
    }
   ],
   "source": [
    "plt.plot(X_new, y_pred, c='red')\n",
    "plt.scatter(X, y)"
   ]
  },
  {
   "cell_type": "code",
   "execution_count": 54,
   "metadata": {},
   "outputs": [],
   "source": [
    "from sklearn.metrics import mean_squared_error"
   ]
  },
  {
   "cell_type": "code",
   "execution_count": 58,
   "metadata": {},
   "outputs": [
    {
     "data": {
      "text/plain": [
       "187.9157650063123"
      ]
     },
     "execution_count": 58,
     "metadata": {},
     "output_type": "execute_result"
    }
   ],
   "source": [
    "mean_squared_error(y, y_pred)"
   ]
  },
  {
   "cell_type": "code",
   "execution_count": 59,
   "metadata": {},
   "outputs": [],
   "source": [
    "rmse = np.sqrt(mean_squared_error(y, y_pred))"
   ]
  },
  {
   "cell_type": "code",
   "execution_count": 60,
   "metadata": {},
   "outputs": [
    {
     "name": "stdout",
     "output_type": "stream",
     "text": [
      "13.70823712248633\n"
     ]
    }
   ],
   "source": [
    "print(rmse)"
   ]
  },
  {
   "cell_type": "code",
   "execution_count": null,
   "metadata": {},
   "outputs": [],
   "source": []
  }
 ],
 "metadata": {
  "kernelspec": {
   "display_name": "Python 3 (ipykernel)",
   "language": "python",
   "name": "python3"
  },
  "language_info": {
   "codemirror_mode": {
    "name": "ipython",
    "version": 3
   },
   "file_extension": ".py",
   "mimetype": "text/x-python",
   "name": "python",
   "nbconvert_exporter": "python",
   "pygments_lexer": "ipython3",
   "version": "3.9.7"
  }
 },
 "nbformat": 4,
 "nbformat_minor": 4
}
