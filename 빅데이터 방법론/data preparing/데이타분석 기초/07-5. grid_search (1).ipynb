{
 "cells": [
  {
   "cell_type": "code",
   "execution_count": 3,
   "id": "e032ac45",
   "metadata": {},
   "outputs": [],
   "source": [
    "import pandas as pd\n",
    "import numpy as np\n",
    "from sklearn.datasets import load_iris\n",
    "from sklearn.tree import DecisionTreeClassifier\n",
    "from sklearn.model_selection import GridSearchCV, train_test_split\n",
    "from sklearn.metrics import accuracy_score\n",
    "\n",
    "# 그리드 서치란?\n",
    "# 관심 있는 매개변수들을 대상으로 가능한 모든 조합을 시도하여 최적의 매개변수를 찾는 방법\n",
    "# 매개변수를 튜닝하여 일반화 성능을 개선해줌"
   ]
  },
  {
   "cell_type": "code",
   "execution_count": 4,
   "id": "c16ed3be",
   "metadata": {},
   "outputs": [],
   "source": [
    "iris_data = load_iris()\n",
    "label = iris_data.target\n",
    "data = iris_data.data"
   ]
  },
  {
   "cell_type": "code",
   "execution_count": 5,
   "id": "ebeff30b",
   "metadata": {},
   "outputs": [],
   "source": [
    "X_train, X_val, y_train, y_val = train_test_split(data, label, test_size=0.2)"
   ]
  },
  {
   "cell_type": "code",
   "execution_count": 41,
   "id": "f7191559",
   "metadata": {},
   "outputs": [
    {
     "data": {
      "text/plain": [
       "array([2, 2, 2, 0, 0, 0, 0, 1, 0, 0, 1, 0, 0, 0, 1, 0, 2, 0, 2, 2, 1, 0,\n",
       "       0, 2, 0, 0, 0, 0, 0, 1, 0, 0, 1, 1, 1, 1, 2, 1, 0, 0, 2, 1, 0, 0,\n",
       "       0, 2, 2, 2, 0, 0, 1, 1, 1, 2, 1, 2, 2, 1, 0, 0, 0, 2, 2, 2, 1, 1,\n",
       "       2, 2, 1, 2, 2, 0, 2, 1, 2, 1, 0, 1, 0, 1, 1, 1, 2, 2, 0, 2, 2, 2,\n",
       "       2, 1, 2, 0, 2, 1, 2, 1, 2, 0, 2, 0, 0, 2, 1, 1, 1, 1, 1, 1, 2, 1,\n",
       "       0, 1, 1, 2, 1, 1, 1, 0, 0, 1])"
      ]
     },
     "execution_count": 41,
     "metadata": {},
     "output_type": "execute_result"
    }
   ],
   "source": [
    " y_train"
   ]
  },
  {
   "cell_type": "code",
   "execution_count": 48,
   "id": "31678ff8",
   "metadata": {},
   "outputs": [],
   "source": [
    "# GridSearchCV의 param_grid 설정\n",
    "params = {\n",
    "    'max_depth': [2, 3,10], #단계\n",
    "    'min_samples_split': [2, 3,]\n",
    "}\n",
    "dtc = DecisionTreeClassifier()\n",
    "\n",
    "# 2,3의 기준을 무엇을 집어 넣는지 이해가 안된다.\n"
   ]
  },
  {
   "cell_type": "code",
   "execution_count": 49,
   "id": "e8768464",
   "metadata": {},
   "outputs": [
    {
     "name": "stdout",
     "output_type": "stream",
     "text": [
      "best parameters :  {'max_depth': 2, 'min_samples_split': 2}\n",
      "best score :  0.9249999999999999\n"
     ]
    }
   ],
   "source": [
    "grid_tree = GridSearchCV(dtc, param_grid=params, cv=3, refit=True)\n",
    "grid_tree.fit(X_train, y_train)\n",
    "\n",
    "print('best parameters : ', grid_tree.best_params_)\n",
    "print('best score : ', grid_tree.best_score_)"
   ]
  },
  {
   "cell_type": "code",
   "execution_count": 51,
   "id": "ae38e974",
   "metadata": {},
   "outputs": [
    {
     "data": {
      "text/plain": [
       "0.9666666666666667"
      ]
     },
     "execution_count": 51,
     "metadata": {},
     "output_type": "execute_result"
    }
   ],
   "source": [
    "em = grid_tree.best_estimator_\n",
    "pred = em.predict(X_val)\n",
    "accuracy_score(y_val, pred)\n",
    "\n",
    "# 아래 답이 어떤구조로 답이 나오는지 이해가 안됨...."
   ]
  },
  {
   "cell_type": "code",
   "execution_count": null,
   "id": "42347851",
   "metadata": {},
   "outputs": [],
   "source": []
  }
 ],
 "metadata": {
  "kernelspec": {
   "display_name": "Python 3 (ipykernel)",
   "language": "python",
   "name": "python3"
  },
  "language_info": {
   "codemirror_mode": {
    "name": "ipython",
    "version": 3
   },
   "file_extension": ".py",
   "mimetype": "text/x-python",
   "name": "python",
   "nbconvert_exporter": "python",
   "pygments_lexer": "ipython3",
   "version": "3.9.7"
  }
 },
 "nbformat": 4,
 "nbformat_minor": 5
}
