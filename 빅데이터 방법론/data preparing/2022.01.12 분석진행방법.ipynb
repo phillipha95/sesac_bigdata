{
 "cells": [
  {
   "cell_type": "code",
   "execution_count": 1,
   "id": "4c6ab2a2",
   "metadata": {},
   "outputs": [
    {
     "ename": "SyntaxError",
     "evalue": "invalid syntax (Temp/ipykernel_13592/3764874567.py, line 1)",
     "output_type": "error",
     "traceback": [
      "\u001b[1;36m  File \u001b[1;32m\"C:\\Users\\phill\\AppData\\Local\\Temp/ipykernel_13592/3764874567.py\"\u001b[1;36m, line \u001b[1;32m1\u001b[0m\n\u001b[1;33m    CRISP-DM 방법론\u001b[0m\n\u001b[1;37m             ^\u001b[0m\n\u001b[1;31mSyntaxError\u001b[0m\u001b[1;31m:\u001b[0m invalid syntax\n"
     ]
    }
   ],
   "source": [
    "CRISP-DM 방법론 \n",
    "# Cross-Industry Standard Process for Data Mining의 약자\n",
    "#  데이터 마이닝 작업을 안내하기 위해 업계에서 검증된 방법입니다\n",
    "\n",
    "1. BISINESS UNDERSTANDING (비지니스의 이해)\n",
    "2. DATA UNDERSTANDING (데이타의 이해) => 어떤종류의 데이타를 가지고 올지 결정\n",
    "3. DATA PREPARING (데이타 전처리)\n",
    " 3.1 전처리 작업(Preprocession)\n",
    "=> 3.1.1.Missing Value(결측치) 처리 df.isnull() , sum()/dropna()/fillna(max,mean,median,min)\n",
    "=> 3.1.2. Outlier (이상치) 처리 => boxplot() 그려보기 => 이상치 발견 \n",
    "      => 이상치 처리(drop,max,mean,median,min,upper_bound/lower_bound,etc)\n",
    "=> 3.1.3.featuring => 새로운 변수(연산)\n",
    "=>  3.1.4. Dummy Variable => 코드화\n",
    "=> 3.1.5 Scaling(표준화, 정규화)\n",
    "    sk-learn.preprocessing 패키지.모듈 Standardscaler()/minmanscaler()/ \n",
    "    \n",
    "    \n",
    "    3.2 EDA(탐색적 분석->기초통계량 :describe()/그래프-displot()/barchar()/boxplot, etc)\n",
    "    => import pandas_profiling\n",
    "    =>\n",
    "    =>Propiling\n",
    "    => 필요하다고 생각하는 변수들을 하나의 dataset(datafile)\n",
    "    \n",
    "    3.2.1 dataframe(datafile) 변수로 사용하고자 하는 파일을 로딩\n",
    "    3.2.2 (각 변수의) 기초 통계량\n",
    "    3.2.3 (각 변수의) 그래프-> 분포:데이타 위치=>곡선 \n",
    "        (displot(), countplot(), bar(), hist()..etc)\n",
    "    \n",
    "    3.2.4 (각 변수별로) 상관관계 =>scatterplot()/ Heat Map()/pairplot()\n",
    "         => 상관관계(Co-lelation/corbarianec(공분산) 계수)\n",
    "        \n",
    "    3.2.5 분석목표 (와인 vs 변수 - 11개 vs 품질 )\n",
    "        =>가설 설정(귀무가설 : 와인 종류와 알코올과의 관련이 없다.)\n",
    "                   (대립 가설 : 와인 종류와 알코올과의 관련이 있다.)\n",
    "        => t-test(t 검정-두개이상의 변수와의 관련성을 판단할때(주로 의료))\n",
    "        => if P-Value < 0.05 then 귀무가설을 기각한다.(대립가설을 받아들인다.)\n",
    "        =>\n",
    "    완전한 데이타 생성\n",
    "4."
   ]
  },
  {
   "cell_type": "code",
   "execution_count": null,
   "id": "27a67910",
   "metadata": {},
   "outputs": [],
   "source": [
    "1.모델링\n",
    "- 희귀분석 y= a + bx >> a값과 b값 구함. (a = 절편, b는 기울기) b 기울기는 상관계수\n",
    "상관계수 >> R^2 구해보기\n",
    "y= a + bx+ BnXn 변수 구해보기\n",
    "y = 품질 영향 확인."
   ]
  }
 ],
 "metadata": {
  "kernelspec": {
   "display_name": "Python 3 (ipykernel)",
   "language": "python",
   "name": "python3"
  },
  "language_info": {
   "codemirror_mode": {
    "name": "ipython",
    "version": 3
   },
   "file_extension": ".py",
   "mimetype": "text/x-python",
   "name": "python",
   "nbconvert_exporter": "python",
   "pygments_lexer": "ipython3",
   "version": "3.9.7"
  }
 },
 "nbformat": 4,
 "nbformat_minor": 5
}
